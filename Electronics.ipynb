{
  "nbformat": 4,
  "nbformat_minor": 0,
  "metadata": {
    "colab": {
      "name": "Electronics",
      "provenance": [],
      "authorship_tag": "ABX9TyPDIPN1BjdqQaYCC9AYCIap",
      "include_colab_link": true
    },
    "kernelspec": {
      "name": "python3",
      "display_name": "Python 3"
    },
    "language_info": {
      "name": "python"
    }
  },
  "cells": [
    {
      "cell_type": "markdown",
      "metadata": {
        "id": "view-in-github",
        "colab_type": "text"
      },
      "source": [
        "<a href=\"https://colab.research.google.com/github/Niraj-Khatri/Pyspark-AWS/blob/master/Electronics.ipynb\" target=\"_parent\"><img src=\"https://colab.research.google.com/assets/colab-badge.svg\" alt=\"Open In Colab\"/></a>"
      ]
    },
    {
      "cell_type": "markdown",
      "metadata": {
        "id": "0oH9jlCoowxQ"
      },
      "source": [
        "# Setup Spark and Import Dataset"
      ]
    },
    {
      "cell_type": "code",
      "metadata": {
        "colab": {
          "base_uri": "https://localhost:8080/"
        },
        "id": "xlUc1IPBmxv1",
        "outputId": "e00974a6-e17a-4818-edfe-58c24c32483c"
      },
      "source": [
        "import os\n",
        "# Find the latest version of spark 3.0  from http://www-us.apache.org/dist/spark/ and enter as the spark version\n",
        "# For example:\n",
        "# spark_version = 'spark-3.0.2'\n",
        "spark_version = 'spark-3.0.3'\n",
        "os.environ['SPARK_VERSION']=spark_version\n",
        "\n",
        "# Install Spark and Java\n",
        "!apt-get update\n",
        "!apt-get install openjdk-11-jdk-headless -qq > /dev/null\n",
        "!wget -q http://www.apache.org/dist/spark/$SPARK_VERSION/$SPARK_VERSION-bin-hadoop2.7.tgz\n",
        "!tar xf $SPARK_VERSION-bin-hadoop2.7.tgz\n",
        "!pip install -q findspark\n",
        "\n",
        "# Set Environment Variables\n",
        "os.environ[\"JAVA_HOME\"] = \"/usr/lib/jvm/java-11-openjdk-amd64\"\n",
        "os.environ[\"SPARK_HOME\"] = f\"/content/{spark_version}-bin-hadoop2.7\"\n",
        "\n",
        "# Start a SparkSession\n",
        "import findspark\n",
        "findspark.init()"
      ],
      "execution_count": 1,
      "outputs": [
        {
          "output_type": "stream",
          "name": "stdout",
          "text": [
            "\r0% [Working]\r            \rGet:1 http://security.ubuntu.com/ubuntu bionic-security InRelease [88.7 kB]\n",
            "\r0% [Connecting to archive.ubuntu.com (91.189.88.142)] [1 InRelease 14.2 kB/88.7\r                                                                               \rHit:2 https://cloud.r-project.org/bin/linux/ubuntu bionic-cran40/ InRelease\n",
            "\r0% [Connecting to archive.ubuntu.com (91.189.88.142)] [1 InRelease 88.7 kB/88.7\r                                                                               \r0% [Waiting for headers] [Waiting for headers] [Waiting for headers]\r0% [2 InRelease gpgv 3,626 B] [Waiting for headers] [Waiting for headers] [Wait\r                                                                               \rIgn:3 https://developer.download.nvidia.com/compute/cuda/repos/ubuntu1804/x86_64  InRelease\n",
            "Hit:4 http://ppa.launchpad.net/c2d4u.team/c2d4u4.0+/ubuntu bionic InRelease\n",
            "Ign:5 https://developer.download.nvidia.com/compute/machine-learning/repos/ubuntu1804/x86_64  InRelease\n",
            "Hit:6 https://developer.download.nvidia.com/compute/cuda/repos/ubuntu1804/x86_64  Release\n",
            "Hit:7 http://archive.ubuntu.com/ubuntu bionic InRelease\n",
            "Hit:8 https://developer.download.nvidia.com/compute/machine-learning/repos/ubuntu1804/x86_64  Release\n",
            "Hit:9 http://archive.ubuntu.com/ubuntu bionic-updates InRelease\n",
            "Hit:10 http://ppa.launchpad.net/cran/libgit2/ubuntu bionic InRelease\n",
            "Get:11 http://archive.ubuntu.com/ubuntu bionic-backports InRelease [74.6 kB]\n",
            "Hit:12 http://ppa.launchpad.net/deadsnakes/ppa/ubuntu bionic InRelease\n",
            "Hit:13 http://ppa.launchpad.net/graphics-drivers/ppa/ubuntu bionic InRelease\n",
            "Fetched 163 kB in 2s (68.9 kB/s)\n",
            "Reading package lists... Done\n"
          ]
        }
      ]
    },
    {
      "cell_type": "code",
      "metadata": {
        "id": "a6w2WiFAmz2u"
      },
      "source": [
        "# Start Spark session\n",
        "from pyspark.sql import SparkSession\n",
        "spark = SparkSession.builder.appName(\"AmazonReviews\").getOrCreate()"
      ],
      "execution_count": 3,
      "outputs": []
    },
    {
      "cell_type": "markdown",
      "metadata": {
        "id": "TJUUDsHI4QVh"
      },
      "source": [
        "# Import Amazon Electronics Data File From AWS\n"
      ]
    },
    {
      "cell_type": "code",
      "metadata": {
        "id": "OZ8WpLy95Md6"
      },
      "source": [
        "# Import struct fields\n",
        "from pyspark.sql.types import StructField, StringType, IntegerType, StructType, TimestampType"
      ],
      "execution_count": 4,
      "outputs": []
    },
    {
      "cell_type": "code",
      "metadata": {
        "id": "mqdut1qU4qdT"
      },
      "source": [
        "\n",
        "\n",
        "# Create schema of field types\n",
        "schema = [StructField(\"marketplace\", StringType(), True), StructField(\"customer_id\", StringType(), True), StructField(\"review_id\", StringType(), True), \n",
        "          StructField(\"product_id\", StringType(), True), StructField(\"product_parent\", StringType(), True),\n",
        "          StructField(\"product_title\", StringType(), True), StructField(\"product_category\", StringType(), True), StructField(\"star_rating\", IntegerType(), True),\n",
        "          StructField(\"helpful_votes\", IntegerType(), True), StructField(\"total_votes\", IntegerType(), True), StructField(\"vine\", StringType(), True),\n",
        "          StructField(\"verified_purchase\", StringType(), True), StructField(\"review_headline\", StringType(), True), StructField(\"review_date\", StringType(), False)]\n",
        "\n",
        "final = StructType(fields=schema)"
      ],
      "execution_count": 24,
      "outputs": []
    },
    {
      "cell_type": "code",
      "metadata": {
        "colab": {
          "base_uri": "https://localhost:8080/"
        },
        "id": "_KKrhnFgm0Qe",
        "outputId": "f31c69e7-6e31-4024-ad10-d8b7af166d14"
      },
      "source": [
        "# Read in data from S3 Buckets\n",
        "from pyspark import SparkFiles\n",
        "url =\"https://s3.amazonaws.com/amazon-reviews-pds/tsv/amazon_reviews_us_Electronics_v1_00.tsv.gz\"\n",
        "spark.sparkContext.addFile(url)\n",
        "df = spark.read.csv(SparkFiles.get(\"amazon_reviews_us_Electronics_v1_00.tsv.gz\"), sep='\\t', header=True)\n",
        "\n",
        "# Clean the data\n",
        "df = df.withColumn('review_date', df['review_date'].cast(TimestampType()))\n",
        "\n",
        "# Show DataFrame\n",
        "df.show()"
      ],
      "execution_count": 29,
      "outputs": [
        {
          "output_type": "stream",
          "name": "stdout",
          "text": [
            "+-----------+-----------+--------------+----------+--------------+--------------------+----------------+-----------+-------------+-----------+----+-----------------+--------------------+--------------------+-------------------+\n",
            "|marketplace|customer_id|     review_id|product_id|product_parent|       product_title|product_category|star_rating|helpful_votes|total_votes|vine|verified_purchase|     review_headline|         review_body|        review_date|\n",
            "+-----------+-----------+--------------+----------+--------------+--------------------+----------------+-----------+-------------+-----------+----+-----------------+--------------------+--------------------+-------------------+\n",
            "|         US|   41409413|R2MTG1GCZLR2DK|B00428R89M|     112201306|yoomall 5M Antenn...|     Electronics|          5|            0|          0|   N|                Y|          Five Stars|       As described.|2015-08-31 00:00:00|\n",
            "|         US|   49668221|R2HBOEM8LE9928|B000068O48|     734576678|Hosa GPM-103 3.5m...|     Electronics|          5|            0|          0|   N|                Y|It works as adver...|It works as adver...|2015-08-31 00:00:00|\n",
            "|         US|   12338275|R1P4RW1R9FDPEE|B000GGKOG8|     614448099|Channel Master Ti...|     Electronics|          5|            1|          1|   N|                Y|          Five Stars|         Works pissa|2015-08-31 00:00:00|\n",
            "|         US|   38487968|R1EBPM82ENI67M|B000NU4OTA|      72265257|LIMTECH Wall char...|     Electronics|          1|            0|          0|   N|                Y|            One Star|Did not work at all.|2015-08-31 00:00:00|\n",
            "|         US|   23732619|R372S58V6D11AT|B00JOQIO6S|     308169188|Skullcandy Air Ra...|     Electronics|          5|            1|          1|   N|                Y|Overall pleased w...|Works well. Bass ...|2015-08-31 00:00:00|\n",
            "|         US|   21257820|R1A4514XOYI1PD|B008NCD2LG|     976385982|Pioneer SP-BS22-L...|     Electronics|          5|            1|          1|   N|                Y|          Five Stars|The quality on th...|2015-08-31 00:00:00|\n",
            "|         US|    3084991|R20D9EHB7N20V6|B00007FGUF|     670878953|C2G/Cables to Go ...|     Electronics|          5|            0|          0|   N|                Y|           Lifesaver|Wish I could give...|2015-08-31 00:00:00|\n",
            "|         US|    8153674|R1WUTD8MVSROJU|B00M9V2RMM|     508452933|COOLEAD-HDMI Swit...|     Electronics|          5|            0|          0|   N|                Y|          Five Stars|         works great|2015-08-31 00:00:00|\n",
            "|         US|   52246189|R1QCYLT25812DM|B00J3O9DYI|     766372886|Philips Wireless ...|     Electronics|          4|            0|          0|   N|                Y|          Four Stars|Great sound and c...|2015-08-31 00:00:00|\n",
            "|         US|   41463864| R904DQPBCEM7A|B00NS1A0E4|     458130381|PlayStation 3 3D ...|     Electronics|          4|            0|          0|   N|                Y|          Four Stars|    It works well~~~|2015-08-31 00:00:00|\n",
            "|         US|    2781942|R1DGA6UQIVLKZ7|B007B5V092|     152891509|JVC HAFR201A Xtre...|     Electronics|          5|            0|          0|   N|                Y|          Five Stars|           Alll good|2015-08-31 00:00:00|\n",
            "|         US|     707292| RLQT3V8SMNIBH|B00IODHGVG|     717335277|Sylvania Alarm Cl...|     Electronics|          5|            0|          0|   N|                Y|          Five Stars|Love clock radio ...|2015-08-31 00:00:00|\n",
            "|         US|   31463514|R3T9GZS2TMXZGM|B0035PBHX6|     249533961|Coby 8 GB 1.8-Inc...|     Electronics|          1|            0|          0|   N|                Y|            One Star|Breaks very easil...|2015-08-31 00:00:00|\n",
            "|         US|   33475055|R24HVAEYP5PLDN|B00K1JJWFO|     635791633|Diamond (Original...|     Electronics|          5|            0|          1|   N|                Y|          Five Stars|Excellent gain in...|2015-08-31 00:00:00|\n",
            "|         US|   16543871|R32KMAPNV5NJPJ|B00S3LJ5EA|     659360184|Kingvom 8gb 50 Ho...|     Electronics|          5|            0|          0|   N|                Y|          Five Stars|everything I expe...|2015-08-31 00:00:00|\n",
            "|         US|   38472651| RC7VLPHUT6UAF|B00B5QNGN6|     564421014|JBL Ultra-Portabl...|     Electronics|          5|            0|          0|   N|                Y|          Five Stars|Love this small s...|2015-08-31 00:00:00|\n",
            "|         US|   26946211|R3G1II8P4KGUAR|B00PLE8QF6|     685446417|YIPBOWPT Surface ...|     Electronics|          5|            0|          0|   N|                Y|       great product|works as advertis...|2015-08-31 00:00:00|\n",
            "|         US|   10195727|R1UBFCBUALL6S5|B00GHUSIU6|     595255086|StarTech.com Mini...|     Electronics|          5|            0|          0|   N|                Y|          Five Stars|very good especia...|2015-08-31 00:00:00|\n",
            "|         US|   47386264|R1WI5NISM6GAUG|B0045EJY90|     892920832|TEAC CD-P650-B Co...|     Electronics|          2|            4|          5|   N|                Y|It does not copy ...|It does not copy ...|2015-08-31 00:00:00|\n",
            "|         US|   13000908|R27F4OF4BIA4LU|B003BT6BM8|     631236454|Philips SHS8100/2...|     Electronics|          2|            1|          1|   N|                Y|Did not last long...|Did not last long...|2015-08-31 00:00:00|\n",
            "+-----------+-----------+--------------+----------+--------------+--------------------+----------------+-----------+-------------+-----------+----+-----------------+--------------------+--------------------+-------------------+\n",
            "only showing top 20 rows\n",
            "\n"
          ]
        }
      ]
    },
    {
      "cell_type": "markdown",
      "metadata": {
        "id": "1Np3s_Lmoo5o"
      },
      "source": [
        "# Create Tables"
      ]
    },
    {
      "cell_type": "markdown",
      "metadata": {
        "id": "pGkv5ikz7zGm"
      },
      "source": [
        "## Customers Table"
      ]
    },
    {
      "cell_type": "code",
      "metadata": {
        "colab": {
          "base_uri": "https://localhost:8080/"
        },
        "id": "riQnDqOM9Ecr",
        "outputId": "1e527a6b-1cdb-40e8-d135-02f4efd68df1"
      },
      "source": [
        "# Customer ID with customer view count\n",
        "customers = df.groupBy(\"customer_id\").count().show()\n"
      ],
      "execution_count": 35,
      "outputs": [
        {
          "output_type": "stream",
          "name": "stdout",
          "text": [
            "+-----------+-----+\n",
            "|customer_id|count|\n",
            "+-----------+-----+\n",
            "|   11608395|    1|\n",
            "|   22848554|    1|\n",
            "|   43490052|    2|\n",
            "|   16281356|    1|\n",
            "|    3223564|    1|\n",
            "|   44662810|    1|\n",
            "|   41681532|    1|\n",
            "|   16336729|    1|\n",
            "|   31425737|    1|\n",
            "|   31693763|    2|\n",
            "|   12536186|    1|\n",
            "|    7328230|    1|\n",
            "|   52857540|    1|\n",
            "|   40549446|    1|\n",
            "|     485535|    1|\n",
            "|    1350260|    1|\n",
            "|   41257827|    2|\n",
            "|   12374662|    9|\n",
            "|   45193257|   39|\n",
            "|     144481|    1|\n",
            "+-----------+-----+\n",
            "only showing top 20 rows\n",
            "\n"
          ]
        }
      ]
    },
    {
      "cell_type": "markdown",
      "metadata": {
        "id": "XRlc9x_e8MGa"
      },
      "source": [
        "## Products Table\n"
      ]
    },
    {
      "cell_type": "code",
      "metadata": {
        "colab": {
          "base_uri": "https://localhost:8080/"
        },
        "id": "Z0oeqZfHAIPh",
        "outputId": "800df931-89f5-40ed-e7a1-8264361d70ea"
      },
      "source": [
        "# Product ID and product title\n",
        "products = df.groupby(\"product_id\", \"product_title\").count().select(\"product_id\", \"product_title\").show()\n"
      ],
      "execution_count": 33,
      "outputs": [
        {
          "output_type": "stream",
          "name": "stdout",
          "text": [
            "+----------+--------------------+\n",
            "|product_id|       product_title|\n",
            "+----------+--------------------+\n",
            "|B00JL2498C|Jensen JTA-410-BL...|\n",
            "|B00OUKG3NE|Sennheiser Androi...|\n",
            "|B0083H9R6A|Electrified ELPLP...|\n",
            "|B0097BEE9Q|Apple iPod nano 1...|\n",
            "|B0037Z4MCM|Pyle Marine Sport...|\n",
            "|B00P0BQKBC|Water & Wood Lock...|\n",
            "|B00TP1C1UC|AmazonBasics 6-Ou...|\n",
            "|B005AIF0X4|iHip MVF1030WO Ma...|\n",
            "|B009JJKZSK|Click 'N Dig! Key...|\n",
            "|B00KXDS4VQ|enKo products HDM...|\n",
            "|B009W857SG|TETC Cable (3 Fee...|\n",
            "|B007LG453Y|Tmvel TVM-UK2 Uni...|\n",
            "|B00KFSO0SA|Monoprice 11149 3...|\n",
            "|B00IH5U050|Digital Army Camo...|\n",
            "|B00JDYMPYS|Sylvania SKCR2713...|\n",
            "|B00YDMW0DQ|Sound Intone HD30...|\n",
            "|B00AR0VCXW|Pro-Ject Speed Bo...|\n",
            "|B006BE6WK6|12 PIECE Ear Hook...|\n",
            "|B00TM1CT98|Bose Acoustimass ...|\n",
            "|B00P8D911I|AuraBeam Samsung ...|\n",
            "+----------+--------------------+\n",
            "only showing top 20 rows\n",
            "\n"
          ]
        }
      ]
    },
    {
      "cell_type": "markdown",
      "metadata": {
        "id": "Grg8EAed8YME"
      },
      "source": [
        "## Reviews Table\n"
      ]
    },
    {
      "cell_type": "code",
      "metadata": {
        "colab": {
          "base_uri": "https://localhost:8080/"
        },
        "id": "HZPZkOpoB7rf",
        "outputId": "a59d2979-c151-48ab-c78e-a540b1d83197"
      },
      "source": [
        "# The review number, who reviewed it, what he/she reviewed, the parent of the reviewed product, and the date of the review\n",
        "reviews = df.select(\"review_id\", \"customer_id\", \"product_id\", \"product_parent\", \"review_date\").show()"
      ],
      "execution_count": 34,
      "outputs": [
        {
          "output_type": "stream",
          "name": "stdout",
          "text": [
            "+--------------+-----------+----------+--------------+-------------------+\n",
            "|     review_id|customer_id|product_id|product_parent|        review_date|\n",
            "+--------------+-----------+----------+--------------+-------------------+\n",
            "|R2MTG1GCZLR2DK|   41409413|B00428R89M|     112201306|2015-08-31 00:00:00|\n",
            "|R2HBOEM8LE9928|   49668221|B000068O48|     734576678|2015-08-31 00:00:00|\n",
            "|R1P4RW1R9FDPEE|   12338275|B000GGKOG8|     614448099|2015-08-31 00:00:00|\n",
            "|R1EBPM82ENI67M|   38487968|B000NU4OTA|      72265257|2015-08-31 00:00:00|\n",
            "|R372S58V6D11AT|   23732619|B00JOQIO6S|     308169188|2015-08-31 00:00:00|\n",
            "|R1A4514XOYI1PD|   21257820|B008NCD2LG|     976385982|2015-08-31 00:00:00|\n",
            "|R20D9EHB7N20V6|    3084991|B00007FGUF|     670878953|2015-08-31 00:00:00|\n",
            "|R1WUTD8MVSROJU|    8153674|B00M9V2RMM|     508452933|2015-08-31 00:00:00|\n",
            "|R1QCYLT25812DM|   52246189|B00J3O9DYI|     766372886|2015-08-31 00:00:00|\n",
            "| R904DQPBCEM7A|   41463864|B00NS1A0E4|     458130381|2015-08-31 00:00:00|\n",
            "|R1DGA6UQIVLKZ7|    2781942|B007B5V092|     152891509|2015-08-31 00:00:00|\n",
            "| RLQT3V8SMNIBH|     707292|B00IODHGVG|     717335277|2015-08-31 00:00:00|\n",
            "|R3T9GZS2TMXZGM|   31463514|B0035PBHX6|     249533961|2015-08-31 00:00:00|\n",
            "|R24HVAEYP5PLDN|   33475055|B00K1JJWFO|     635791633|2015-08-31 00:00:00|\n",
            "|R32KMAPNV5NJPJ|   16543871|B00S3LJ5EA|     659360184|2015-08-31 00:00:00|\n",
            "| RC7VLPHUT6UAF|   38472651|B00B5QNGN6|     564421014|2015-08-31 00:00:00|\n",
            "|R3G1II8P4KGUAR|   26946211|B00PLE8QF6|     685446417|2015-08-31 00:00:00|\n",
            "|R1UBFCBUALL6S5|   10195727|B00GHUSIU6|     595255086|2015-08-31 00:00:00|\n",
            "|R1WI5NISM6GAUG|   47386264|B0045EJY90|     892920832|2015-08-31 00:00:00|\n",
            "|R27F4OF4BIA4LU|   13000908|B003BT6BM8|     631236454|2015-08-31 00:00:00|\n",
            "+--------------+-----------+----------+--------------+-------------------+\n",
            "only showing top 20 rows\n",
            "\n"
          ]
        }
      ]
    },
    {
      "cell_type": "markdown",
      "metadata": {
        "id": "z7ECVMbg8irh"
      },
      "source": [
        "## Vines Table"
      ]
    },
    {
      "cell_type": "code",
      "metadata": {
        "colab": {
          "base_uri": "https://localhost:8080/"
        },
        "id": "Y4YFlLuv8lBI",
        "outputId": "502b7575-4850-4fac-e6b8-85300b2713cb"
      },
      "source": [
        "# The review number, rating, helpful votes, total votes, and vine \n",
        "vines = df.select(\"review_id\", \"star_rating\", \"helpful_votes\", \"total_votes\", \"vine\").show()"
      ],
      "execution_count": 36,
      "outputs": [
        {
          "output_type": "stream",
          "name": "stdout",
          "text": [
            "+--------------+-----------+-------------+-----------+----+\n",
            "|     review_id|star_rating|helpful_votes|total_votes|vine|\n",
            "+--------------+-----------+-------------+-----------+----+\n",
            "|R2MTG1GCZLR2DK|          5|            0|          0|   N|\n",
            "|R2HBOEM8LE9928|          5|            0|          0|   N|\n",
            "|R1P4RW1R9FDPEE|          5|            1|          1|   N|\n",
            "|R1EBPM82ENI67M|          1|            0|          0|   N|\n",
            "|R372S58V6D11AT|          5|            1|          1|   N|\n",
            "|R1A4514XOYI1PD|          5|            1|          1|   N|\n",
            "|R20D9EHB7N20V6|          5|            0|          0|   N|\n",
            "|R1WUTD8MVSROJU|          5|            0|          0|   N|\n",
            "|R1QCYLT25812DM|          4|            0|          0|   N|\n",
            "| R904DQPBCEM7A|          4|            0|          0|   N|\n",
            "|R1DGA6UQIVLKZ7|          5|            0|          0|   N|\n",
            "| RLQT3V8SMNIBH|          5|            0|          0|   N|\n",
            "|R3T9GZS2TMXZGM|          1|            0|          0|   N|\n",
            "|R24HVAEYP5PLDN|          5|            0|          1|   N|\n",
            "|R32KMAPNV5NJPJ|          5|            0|          0|   N|\n",
            "| RC7VLPHUT6UAF|          5|            0|          0|   N|\n",
            "|R3G1II8P4KGUAR|          5|            0|          0|   N|\n",
            "|R1UBFCBUALL6S5|          5|            0|          0|   N|\n",
            "|R1WI5NISM6GAUG|          2|            4|          5|   N|\n",
            "|R27F4OF4BIA4LU|          2|            1|          1|   N|\n",
            "+--------------+-----------+-------------+-----------+----+\n",
            "only showing top 20 rows\n",
            "\n"
          ]
        }
      ]
    },
    {
      "cell_type": "code",
      "metadata": {
        "id": "2DrTtR2DLWVj"
      },
      "source": [
        ""
      ],
      "execution_count": null,
      "outputs": []
    }
  ]
}