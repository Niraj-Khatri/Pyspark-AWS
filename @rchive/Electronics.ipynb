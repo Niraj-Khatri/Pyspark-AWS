{
  "nbformat": 4,
  "nbformat_minor": 0,
  "metadata": {
    "colab": {
      "name": "Electronics",
      "provenance": [],
      "collapsed_sections": [],
      "authorship_tag": "ABX9TyMWFDUOw0C5ORXYpyIF5l2U",
      "include_colab_link": true
    },
    "kernelspec": {
      "name": "python3",
      "display_name": "Python 3"
    },
    "language_info": {
      "name": "python"
    }
  },
  "cells": [
    {
      "cell_type": "markdown",
      "metadata": {
        "id": "view-in-github",
        "colab_type": "text"
      },
      "source": [
        "<a href=\"https://colab.research.google.com/github/Niraj-Khatri/Pyspark-AWS/blob/master/Electronics.ipynb\" target=\"_parent\"><img src=\"https://colab.research.google.com/assets/colab-badge.svg\" alt=\"Open In Colab\"/></a>"
      ]
    },
    {
      "cell_type": "markdown",
      "metadata": {
        "id": "0oH9jlCoowxQ"
      },
      "source": [
        "# Setup Spark and Import Dataset"
      ]
    },
    {
      "cell_type": "code",
      "metadata": {
        "colab": {
          "base_uri": "https://localhost:8080/"
        },
        "id": "xlUc1IPBmxv1",
        "outputId": "4f5900a0-2036-4af6-ac3a-b93a27bf24d1"
      },
      "source": [
        "import os\n",
        "# Find the latest version of spark 3.0  from http://www-us.apache.org/dist/spark/ and enter as the spark version\n",
        "# For example:\n",
        "# spark_version = 'spark-3.0.2'\n",
        "spark_version = 'spark-3.0.3'\n",
        "os.environ['SPARK_VERSION']=spark_version\n",
        "\n",
        "# Install Spark and Java\n",
        "!apt-get update\n",
        "!apt-get install openjdk-11-jdk-headless -qq > /dev/null\n",
        "!wget -q http://www.apache.org/dist/spark/$SPARK_VERSION/$SPARK_VERSION-bin-hadoop2.7.tgz\n",
        "!tar xf $SPARK_VERSION-bin-hadoop2.7.tgz\n",
        "!pip install -q findspark\n",
        "\n",
        "# Set Environment Variables\n",
        "os.environ[\"JAVA_HOME\"] = \"/usr/lib/jvm/java-11-openjdk-amd64\"\n",
        "os.environ[\"SPARK_HOME\"] = f\"/content/{spark_version}-bin-hadoop2.7\"\n",
        "\n",
        "# Start a SparkSession\n",
        "import findspark\n",
        "findspark.init()"
      ],
      "execution_count": null,
      "outputs": [
        {
          "output_type": "stream",
          "name": "stdout",
          "text": [
            "\r0% [Working]\r            \rGet:1 http://security.ubuntu.com/ubuntu bionic-security InRelease [88.7 kB]\n",
            "\r0% [Connecting to archive.ubuntu.com (91.189.88.152)] [1 InRelease 14.2 kB/88.7\r                                                                               \rHit:2 https://cloud.r-project.org/bin/linux/ubuntu bionic-cran40/ InRelease\n",
            "\r0% [Connecting to archive.ubuntu.com (91.189.88.152)] [1 InRelease 28.7 kB/88.7\r0% [2 InRelease gpgv 3,626 B] [Connecting to archive.ubuntu.com (91.189.88.152)\r                                                                               \rIgn:3 https://developer.download.nvidia.com/compute/cuda/repos/ubuntu1804/x86_64  InRelease\n",
            "Ign:4 https://developer.download.nvidia.com/compute/machine-learning/repos/ubuntu1804/x86_64  InRelease\n",
            "Hit:5 https://developer.download.nvidia.com/compute/cuda/repos/ubuntu1804/x86_64  Release\n",
            "Hit:6 https://developer.download.nvidia.com/compute/machine-learning/repos/ubuntu1804/x86_64  Release\n",
            "Hit:7 http://ppa.launchpad.net/c2d4u.team/c2d4u4.0+/ubuntu bionic InRelease\n",
            "Hit:8 http://archive.ubuntu.com/ubuntu bionic InRelease\n",
            "Get:9 http://archive.ubuntu.com/ubuntu bionic-updates InRelease [88.7 kB]\n",
            "Hit:10 http://ppa.launchpad.net/cran/libgit2/ubuntu bionic InRelease\n",
            "Hit:11 http://ppa.launchpad.net/deadsnakes/ppa/ubuntu bionic InRelease\n",
            "Get:12 http://archive.ubuntu.com/ubuntu bionic-backports InRelease [74.6 kB]\n",
            "Hit:13 http://ppa.launchpad.net/graphics-drivers/ppa/ubuntu bionic InRelease\n",
            "Fetched 252 kB in 3s (92.2 kB/s)\n",
            "Reading package lists... Done\n"
          ]
        }
      ]
    },
    {
      "cell_type": "code",
      "metadata": {
        "id": "tFk7uHIyjywm",
        "colab": {
          "base_uri": "https://localhost:8080/"
        },
        "outputId": "fbebce36-a1f6-4b94-a92a-88e33ee8d8e3"
      },
      "source": [
        "# Connect to Postgres\n",
        "!wget https://jdbc.postgresql.org/download/postgresql-42.2.9.jar"
      ],
      "execution_count": null,
      "outputs": [
        {
          "output_type": "stream",
          "name": "stdout",
          "text": [
            "--2021-09-02 19:01:27--  https://jdbc.postgresql.org/download/postgresql-42.2.9.jar\n",
            "Resolving jdbc.postgresql.org (jdbc.postgresql.org)... 72.32.157.228, 2001:4800:3e1:1::228\n",
            "Connecting to jdbc.postgresql.org (jdbc.postgresql.org)|72.32.157.228|:443... connected.\n",
            "HTTP request sent, awaiting response... 200 OK\n",
            "Length: 914037 (893K) [application/java-archive]\n",
            "Saving to: ‘postgresql-42.2.9.jar.2’\n",
            "\n",
            "postgresql-42.2.9.j 100%[===================>] 892.61K  --.-KB/s    in 0.08s   \n",
            "\n",
            "2021-09-02 19:01:27 (10.4 MB/s) - ‘postgresql-42.2.9.jar.2’ saved [914037/914037]\n",
            "\n"
          ]
        }
      ]
    },
    {
      "cell_type": "code",
      "metadata": {
        "id": "a6w2WiFAmz2u"
      },
      "source": [
        "# Start Spark session\n",
        "from pyspark.sql import SparkSession\n",
        "spark = SparkSession.builder.appName(\"AmazonReviews\").config(\"spark.driver.extraClassPath\",\"/content/postgresql-42.2.9.jar\").getOrCreate()"
      ],
      "execution_count": null,
      "outputs": []
    },
    {
      "cell_type": "markdown",
      "metadata": {
        "id": "TJUUDsHI4QVh"
      },
      "source": [
        "# Import Amazon Data File From AWS\n"
      ]
    },
    {
      "cell_type": "code",
      "metadata": {
        "id": "OZ8WpLy95Md6"
      },
      "source": [
        "# Import struct fields\n",
        "from pyspark.sql.types import StructField, StringType, IntegerType, StructType, TimestampType"
      ],
      "execution_count": null,
      "outputs": []
    },
    {
      "cell_type": "markdown",
      "metadata": {
        "id": "45WDqBb9N6rm"
      },
      "source": [
        "## Electronics Data"
      ]
    },
    {
      "cell_type": "code",
      "metadata": {
        "id": "_KKrhnFgm0Qe"
      },
      "source": [
        "# Read in data from url\n",
        "from pyspark import SparkFiles\n",
        "url =\"https://s3.amazonaws.com/amazon-reviews-pds/tsv/amazon_reviews_us_Electronics_v1_00.tsv.gz\"\n",
        "spark.sparkContext.addFile(url)\n",
        "data = spark.read.csv(SparkFiles.get(\"amazon_reviews_us_Electronics_v1_00.tsv.gz\"), sep='\\t', header=True)\n",
        "\n",
        "# Clean the data\n",
        "data = data.withColumn('review_date', data['review_date'].cast(TimestampType()))\n",
        "data = data.withColumn('customer_id', data['customer_id'].cast(IntegerType()))\n",
        "data = data.withColumn('product_parent', data['product_parent'].cast(IntegerType()))\n",
        "data = data.withColumn('star_rating', data['star_rating'].cast(IntegerType()))\n",
        "data = data.withColumn('helpful_votes', data['helpful_votes'].cast(IntegerType()))\n",
        "data = data.withColumn('total_votes', data['total_votes'].cast(IntegerType()))\n",
        "electronics_df = data.dropna()\n"
      ],
      "execution_count": 23,
      "outputs": []
    },
    {
      "cell_type": "markdown",
      "metadata": {
        "id": "kWyH__n6OGf4"
      },
      "source": [
        "## Video Game Data"
      ]
    },
    {
      "cell_type": "code",
      "metadata": {
        "id": "SEGreY8QOkW4"
      },
      "source": [
        "# Read in data from url \n",
        "from pyspark import SparkFiles\n",
        "url =\"https://s3.amazonaws.com/amazon-reviews-pds/tsv/amazon_reviews_us_Video_Games_v1_00.tsv.gz\"\n",
        "spark.sparkContext.addFile(url)\n",
        "data = spark.read.csv(SparkFiles.get(\"amazon_reviews_us_Video_Games_v1_00.tsv.gz\"), sep='\\t', header=True)\n",
        "\n",
        "# Clean the data\n",
        "data = data.withColumn('review_date', data['review_date'].cast(TimestampType()))\n",
        "data = data.withColumn('customer_id', data['customer_id'].cast(IntegerType()))\n",
        "data = data.withColumn('product_parent', data['product_parent'].cast(IntegerType()))\n",
        "data = data.withColumn('star_rating', data['star_rating'].cast(IntegerType()))\n",
        "data = data.withColumn('helpful_votes', data['helpful_votes'].cast(IntegerType()))\n",
        "data = data.withColumn('total_votes', data['total_votes'].cast(IntegerType()))\n",
        "videogames_df = data.dropna()"
      ],
      "execution_count": 24,
      "outputs": []
    },
    {
      "cell_type": "markdown",
      "metadata": {
        "id": "1Np3s_Lmoo5o"
      },
      "source": [
        "# Create Tables"
      ]
    },
    {
      "cell_type": "markdown",
      "metadata": {
        "id": "pGkv5ikz7zGm"
      },
      "source": [
        "## Customers Table"
      ]
    },
    {
      "cell_type": "code",
      "metadata": {
        "id": "riQnDqOM9Ecr"
      },
      "source": [
        "# Define datasets to merge\n",
        "electronics_customers = electronics_df.select(\"customer_id\")\n",
        "videogames_customers = videogames_df.select(\"customer_id\")\n",
        "\n",
        "# Merge\n",
        "customers = electronics_customers.union(videogames_customers)\n",
        "\n",
        "# Create final table\n",
        "customers = df.groupBy(\"customer_id\").count()\n",
        "customers = customers.withColumnRenamed('count','customer_count')\n",
        "customers = customers.withColumn('customer_count', customers['customer_count'].cast(IntegerType()))"
      ],
      "execution_count": 35,
      "outputs": []
    },
    {
      "cell_type": "markdown",
      "metadata": {
        "id": "XRlc9x_e8MGa"
      },
      "source": [
        "## Products Table\n"
      ]
    },
    {
      "cell_type": "code",
      "metadata": {
        "id": "Z0oeqZfHAIPh"
      },
      "source": [
        "# Define datasets to merge\n",
        "electronics_products = electronics_df.select(\"product_id\", \"product_title\")\n",
        "videogames_products = videogames_df.select(\"product_id\", \"product_title\")\n",
        "\n",
        "# Merge\n",
        "products = electronics_products.union(videogames_products)\n",
        "\n",
        "# Create final table\n",
        "products = df.groupby(\"product_id\", \"product_title\").count().select(\"product_id\", \"product_title\")"
      ],
      "execution_count": 45,
      "outputs": []
    },
    {
      "cell_type": "markdown",
      "metadata": {
        "id": "Grg8EAed8YME"
      },
      "source": [
        "## Reviews Table\n"
      ]
    },
    {
      "cell_type": "code",
      "metadata": {
        "id": "HZPZkOpoB7rf"
      },
      "source": [
        "# Define datasets to merge\n",
        "electronics_reviews = electronics_df.select(\"review_id\", \"customer_id\", \"product_id\", \"product_parent\", \"review_date\")\n",
        "videogames_reviews = videogames_df.select(\"review_id\", \"customer_id\", \"product_id\", \"product_parent\", \"review_date\")\n",
        "\n",
        "# Merge\n",
        "reviews = electronics_reviews.union(videogames_reviews)\n",
        "\n",
        "# Create final table\n",
        "reviews = df.groupby(\"review_id\", \"customer_id\", \"product_id\", \"product_parent\", \"review_date\").count().select(\"review_id\", \"customer_id\", \"product_id\", \"product_parent\", \"review_date\")"
      ],
      "execution_count": 46,
      "outputs": []
    },
    {
      "cell_type": "markdown",
      "metadata": {
        "id": "z7ECVMbg8irh"
      },
      "source": [
        "## Vines Table"
      ]
    },
    {
      "cell_type": "code",
      "metadata": {
        "id": "Y4YFlLuv8lBI"
      },
      "source": [
        "# Define datasets to merge\n",
        "electronics_vines = electronics_df.select(\"review_id\", \"star_rating\", \"helpful_votes\", \"total_votes\", \"vine\")\n",
        "videogames_vines = videogames_df.select(\"review_id\", \"star_rating\", \"helpful_votes\", \"total_votes\", \"vine\")\n",
        "\n",
        "# Merge\n",
        "vines = electronics_vines.union(videogames_vines)\n",
        "\n",
        "# The review number, rating, helpful votes, total votes, and vine \n",
        "vines = vines.select(\"review_id\", \"star_rating\", \"helpful_votes\", \"total_votes\", \"vine\")"
      ],
      "execution_count": 47,
      "outputs": []
    },
    {
      "cell_type": "markdown",
      "metadata": {
        "id": "pJ8wdMVjxpEj"
      },
      "source": [
        "# Connect To RDS"
      ]
    },
    {
      "cell_type": "code",
      "metadata": {
        "id": "2DrTtR2DLWVj"
      },
      "source": [
        "# Configure settings for RDS\n",
        "mode = \"overwrite\"\n",
        "jdbc_url=\"jdbc:postgresql://amazonreviews.c5bki1uyc90h.us-east-2.rds.amazonaws.com:5432/AmazonReviews\"\n",
        "config = {\"user\":\"postgres\", \n",
        "          \"password\": \"Goldensun123!\", \n",
        "          \"driver\":\"org.postgresql.Driver\"}"
      ],
      "execution_count": 48,
      "outputs": []
    },
    {
      "cell_type": "code",
      "metadata": {
        "id": "3WMvwRG7p8OO"
      },
      "source": [
        "# Write tables to postgres in RDS\n",
        "customers.write.jdbc(url=jdbc_url, table = \"customers\", mode=mode, properties=config)\n",
        "products.write.jdbc(url=jdbc_url, table = \"products\", mode=mode, properties=config)\n",
        "reviews.write.jdbc(url=jdbc_url, table = \"review_id_table\", mode=mode, properties=config)\n",
        "vines.write.jdbc(url=jdbc_url, table = \"vine_table\", mode=mode, properties=config)\n"
      ],
      "execution_count": 49,
      "outputs": []
    }
  ]
}